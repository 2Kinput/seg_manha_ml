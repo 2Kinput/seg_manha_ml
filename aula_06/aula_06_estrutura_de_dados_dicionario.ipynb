{
 "cells": [
  {
   "cell_type": "markdown",
   "metadata": {},
   "source": [
    "## **Aula 06** - Estruturas de Dados: List\n",
    "\n",
    "**Objetivo**: Apresentar os conceitos sobre as Estruturas de Dados em Python."
   ]
  },
  {
   "cell_type": "markdown",
   "metadata": {},
   "source": [
    "# Dicionários (***dict***)\n",
    "* O dicionário é uma estrutura de dados similar as listas, mas não ordenado. Sua estrutra é composta por <code>chave:valor</code>\n",
    "* Apesar de não ser ordenado, é indexado pela sua chave\n",
    "* Enquanto nas listas o delimitador são pares de colchetes, no dict são as chaves"
   ]
  },
  {
   "cell_type": "code",
   "execution_count": null,
   "metadata": {},
   "outputs": [],
   "source": [
    "dicionario = {'RA':'123456', 'nome':'Edson Melo de Souza', \n",
    "              'idade':48, 'Curso':'Ciências da Computação'}\n",
    "dicionario"
   ]
  },
  {
   "cell_type": "markdown",
   "metadata": {},
   "source": [
    "## Operações com dicionários\n",
    "* Acessar valor de uma chave: dict[key]\n",
    "* Alterar o valor de uma chave: dict[key] = novo_valor\n",
    "* Para iterar todas as chaves e valores: for key, value in dict.items()\n",
    "* Verificar pertencimento: if chave_desejada in dict: ou if valor_desejado in dict.items()"
   ]
  },
  {
   "cell_type": "code",
   "execution_count": null,
   "metadata": {},
   "outputs": [],
   "source": [
    "print('RA:', dicionario['RA'])"
   ]
  },
  {
   "cell_type": "code",
   "execution_count": null,
   "metadata": {},
   "outputs": [],
   "source": [
    "print('RA:', dicionario.get('RA')) # outro método de acessar uma chave"
   ]
  },
  {
   "cell_type": "code",
   "execution_count": null,
   "metadata": {},
   "outputs": [],
   "source": [
    "for chave, valor in dicionario.items():\n",
    "    print(chave, valor)"
   ]
  },
  {
   "cell_type": "code",
   "execution_count": null,
   "metadata": {},
   "outputs": [],
   "source": [
    "chaves = dicionario.keys()\n",
    "for chave in chaves:\n",
    "    print(chave, dicionario[chave])"
   ]
  },
  {
   "cell_type": "markdown",
   "metadata": {},
   "source": [
    "### Incluindo, alterando e removendo elementos do dicionário"
   ]
  },
  {
   "cell_type": "code",
   "execution_count": null,
   "metadata": {},
   "outputs": [],
   "source": [
    "# adicionando uma nova entrada\n",
    "dicionario['AV1'] = 8\n",
    "dicionario"
   ]
  },
  {
   "cell_type": "code",
   "execution_count": null,
   "metadata": {},
   "outputs": [],
   "source": [
    "# atualizando: com o método update() atualizamos uma chave já existente com um novo valor ou adicionamos novas chaves caso elas não existam.\n",
    "dicionario.update({'AV2':10})\n",
    "dicionario"
   ]
  },
  {
   "cell_type": "code",
   "execution_count": null,
   "metadata": {},
   "outputs": [],
   "source": [
    "# alterando as notas no dicionário\n",
    "dicionario.update({'AV1':7, 'AV2':10})\n",
    "dicionario"
   ]
  },
  {
   "cell_type": "code",
   "execution_count": null,
   "metadata": {},
   "outputs": [],
   "source": [
    "# removendo valores do dicionário\n",
    "del dicionario['AV2']\n",
    "dicionario"
   ]
  },
  {
   "cell_type": "code",
   "execution_count": null,
   "metadata": {},
   "outputs": [],
   "source": [
    "# verificando se existe uma chave no dicionário\n",
    "'AV1' in dicionario"
   ]
  },
  {
   "cell_type": "code",
   "execution_count": null,
   "metadata": {},
   "outputs": [],
   "source": [
    "'AV2' not in dicionario"
   ]
  },
  {
   "cell_type": "markdown",
   "metadata": {},
   "source": [
    "## Dicionário integrado com listas\n",
    "* Criando uma lista que contém dicionários"
   ]
  },
  {
   "cell_type": "code",
   "execution_count": null,
   "metadata": {},
   "outputs": [],
   "source": [
    "lista_alunos = []\n",
    "lista_alunos.append({'RA':'123456', 'nome':'Edson Melo de Souza', 'curso':'Ciências da Computação'})\n",
    "lista_alunos.append({'RA':'987654', 'nome':'Fernanda Mercadante', 'curso':'Sistemas de Informação'})\n",
    "lista_alunos"
   ]
  },
  {
   "cell_type": "markdown",
   "metadata": {},
   "source": [
    "## Percorrendo os dicionários dentro de uma lista (método get)"
   ]
  },
  {
   "cell_type": "code",
   "execution_count": null,
   "metadata": {},
   "outputs": [],
   "source": [
    "for entrada in lista_alunos:\n",
    "    for aluno in [entrada]:\n",
    "        print('RA:', aluno.get('RA'))\n",
    "        print('Nome:', aluno.get('nome'))\n",
    "        print('Curso:', aluno.get('curso'))\n",
    "    print()\n"
   ]
  },
  {
   "cell_type": "markdown",
   "metadata": {},
   "source": [
    "## Percorrendo com o uso das chaves (keys)"
   ]
  },
  {
   "cell_type": "code",
   "execution_count": null,
   "metadata": {},
   "outputs": [],
   "source": [
    "for entrada in lista_alunos:\n",
    "    for aluno in entrada.keys():\n",
    "        print(aluno, entrada[aluno])\n",
    "    print()\n"
   ]
  },
  {
   "cell_type": "markdown",
   "metadata": {},
   "source": [
    "# ATIVIDADE\n",
    "1. Utilizandos os conceitos vistos nesta aula e na aula anterior, crie um dicionário com 20 alunos que mostre:<br>\n",
    "<ul>\n",
    "    <li>Maior nota</li>\n",
    "    <li>Menor nota</li>\n",
    "    <li>Média dos alunos</li>\n",
    "</ul>\n",
    "2. Utilizando os mesmos dados, mostre os resultados de forma individual para cada curso.\n",
    "3. **Desafio**: Desenvolva um algoritmo que permita mostrar **de uma só vez** os resultados para os respectivos cursos"
   ]
  },
  {
   "cell_type": "code",
   "execution_count": null,
   "metadata": {},
   "outputs": [],
   "source": [
    "alunos = []\n",
    "alunos.append({'nome': 'Aluno 01', 'curso': 'Ciências da Computação', 'AV1':8 })\n",
    "alunos.append({'nome': 'Aluno 02', 'curso': 'Sistemas de Informação', 'AV1':7 })\n",
    "alunos.append({'nome': 'Aluno 03', 'curso': 'Sistemas de Informação', 'AV1':6 })\n",
    "alunos.append({'nome': 'Aluno 04', 'curso': 'Sistemas de Informação', 'AV1':6 })\n",
    "alunos.append({'nome': 'Aluno 05', 'curso': 'Sistemas de Informação', 'AV1':6 })\n",
    "alunos.append({'nome': 'Aluno 06', 'curso': 'Análise e Desenvolvimento de Sistemas', 'AV1':7 })\n",
    "alunos.append({'nome': 'Aluno 07', 'curso': 'Análise e Desenvolvimento de Sistemas', 'AV1':9 })\n",
    "alunos.append({'nome': 'Aluno 08', 'curso': 'Ciências da Computação', 'AV1':10 })\n",
    "alunos.append({'nome': 'Aluno 09', 'curso': 'Ciências da Computação', 'AV1':10 })\n",
    "alunos.append({'nome': 'Aluno 10', 'curso': 'Ciências da Computação', 'AV1':4 })\n",
    "alunos.append({'nome': 'Aluno 11', 'curso': 'Análise e Desenvolvimento de Sistemas', 'AV1':5 })\n",
    "alunos.append({'nome': 'Aluno 11', 'curso': 'Análise e Desenvolvimento de Sistemas', 'AV1':5 })\n",
    "alunos.append({'nome': 'Aluno 12', 'curso': 'Análise e Desenvolvimento de Sistemas', 'AV1':9 })\n",
    "alunos.append({'nome': 'Aluno 13', 'curso': 'Análise e Desenvolvimento de Sistemas', 'AV1':9 })\n",
    "alunos.append({'nome': 'Aluno 14', 'curso': 'Ciências da Computação', 'AV1': 7})\n",
    "alunos.append({'nome': 'Aluno 15', 'curso': 'Análise e Desenvolvimento de Sistemas', 'AV1':7})\n",
    "alunos.append({'nome': 'Aluno 16', 'curso': 'Ciências da Computação', 'AV1': 6})\n",
    "alunos.append({'nome': 'Aluno 17', 'curso': 'Análise e Desenvolvimento de Sistemas', 'AV1':8 })\n",
    "alunos.append({'nome': 'Aluno 18', 'curso': 'Ciências da Computação', 'AV1':4 })\n",
    "alunos.append({'nome': 'Aluno 19', 'curso': 'Sistemas de Informação', 'AV1':2 })\n",
    "alunos.append({'nome': 'Aluno 20', 'curso': 'Análise e Desenvolvimento de Sistemas', 'AV1':9 })"
   ]
  }
 ],
 "metadata": {
  "kernelspec": {
   "display_name": "Python 3",
   "language": "python",
   "name": "python3"
  },
  "language_info": {
   "codemirror_mode": {
    "name": "ipython",
    "version": 3
   },
   "file_extension": ".py",
   "mimetype": "text/x-python",
   "name": "python",
   "nbconvert_exporter": "python",
   "pygments_lexer": "ipython3",
   "version": "3.6.10"
  }
 },
 "nbformat": 4,
 "nbformat_minor": 4
}

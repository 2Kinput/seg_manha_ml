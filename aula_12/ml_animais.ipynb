{
  "nbformat": 4,
  "nbformat_minor": 0,
  "metadata": {
    "colab": {
      "name": "ml_resolvido_vetor.ipynb",
      "provenance": [],
      "collapsed_sections": []
    },
    "kernelspec": {
      "name": "python3",
      "display_name": "Python 3"
    }
  },
  "cells": [
    {
      "cell_type": "markdown",
      "metadata": {
        "id": "u3dlWbGyZnhv"
      },
      "source": [
        "# Importações das bibliotecas"
      ]
    },
    {
      "cell_type": "code",
      "metadata": {
        "id": "3vaFuVpfZR-e"
      },
      "source": [
        "from sklearn.naive_bayes import MultinomialNB\n",
        "from sklearn.tree import DecisionTreeClassifier\n",
        "from sklearn.naive_bayes import GaussianNB\n",
        "from sklearn.linear_model import LogisticRegression\n",
        "from sklearn.neighbors import KNeighborsClassifier\n",
        "\n",
        "from numpy import array # trabalhar com array\n",
        "import numpy as np\n",
        "\n",
        "import warnings \n",
        "warnings.filterwarnings('ignore')"
      ],
      "execution_count": null,
      "outputs": []
    },
    {
      "cell_type": "markdown",
      "metadata": {
        "id": "-Y41P6a8aS4D"
      },
      "source": [
        "# Conjunto de animais (raças)"
      ]
    },
    {
      "cell_type": "code",
      "metadata": {
        "id": "KOflBS82Zl8c"
      },
      "source": [
        "# coloca os animais em um array\n",
        "# perceba que a definição da raça é agora um elemento do mesmo array\n",
        "animais = array([\n",
        "    [1, 0, 1, 1, 0, 1, 1, 'Poodle'],\n",
        "    [0, 0, 0, 1, 1, 0, 0, 'Poodle'],\n",
        "    [1, 1, 1, 1, 1, 1, 0, 'Poodle'],\n",
        "    [0, 0, 0, 0, 1, 1, 0, 'Poodle'],\n",
        "    [1, 1, 1, 0, 1, 0, 0, 'Poodle'],\n",
        "    [0, 1, 1, 1, 0, 1, 0, 'Doberman'],\n",
        "    [0, 1, 1, 1, 0, 0, 1, 'Doberman'],\n",
        "    [0, 1, 1, 1, 1, 1, 1, 'Doberman'],\n",
        "    [0, 0, 1, 0, 0, 0, 1, 'Doberman'],\n",
        "    [1, 1, 0, 1, 1, 0, 0, 'Doberman'],\n",
        "    [1, 1, 0, 0, 1, 0, 1, 'Pit Bull'],\n",
        "    [1, 0, 0, 1, 0, 0, 1, 'Pit Bull'],\n",
        "    [0, 0, 0, 0, 1, 1, 1, 'Pit Bull'],\n",
        "    [0, 0, 0, 1, 1, 0, 0, 'Pit Bull'],\n",
        "    [1, 0, 1, 0, 1, 1, 0, 'Pit Bull'],\n",
        "    [0, 0, 0, 1, 1, 1, 0, 'Fila'],\n",
        "    [1, 1, 1, 0, 1, 1, 0, 'Fila'],\n",
        "    [0, 1, 1, 1, 1, 1, 0, 'Fila'],\n",
        "    [1, 1, 0, 0, 1, 1, 1, 'Fila'],\n",
        "    [0, 1, 1, 1, 0, 0, 1, 'Fila']\n",
        "])"
      ],
      "execution_count": null,
      "outputs": []
    },
    {
      "cell_type": "markdown",
      "metadata": {
        "id": "7rpAl_wEaidV"
      },
      "source": [
        "# Separando os dados\n",
        "+ X para características (features)\n",
        "+ y para a raça (target)"
      ]
    },
    {
      "cell_type": "code",
      "metadata": {
        "id": "k7Kt_SZY2Zfj"
      },
      "source": [
        "X = animais[:, :-1].astype(np.int) # pega apenas os valores"
      ],
      "execution_count": null,
      "outputs": []
    },
    {
      "cell_type": "code",
      "metadata": {
        "id": "s7ZTqaiN2qo7"
      },
      "source": [
        "y = animais[:, -1] # pega apenas as raças"
      ],
      "execution_count": null,
      "outputs": []
    },
    {
      "cell_type": "markdown",
      "metadata": {
        "id": "iZy79gw0bH-b"
      },
      "source": [
        "# Criando os modelos"
      ]
    },
    {
      "cell_type": "code",
      "metadata": {
        "id": "VL7pRC6va2qd"
      },
      "source": [
        "multi_model = MultinomialNB()\n",
        "tree_model = DecisionTreeClassifier(max_depth=10)\n",
        "knn_model = KNeighborsClassifier(n_neighbors=5)\n",
        "logreg_model = LogisticRegression()\n",
        "gnb_model = GaussianNB()"
      ],
      "execution_count": null,
      "outputs": []
    },
    {
      "cell_type": "markdown",
      "metadata": {
        "id": "o90X5y9Yb0Lz"
      },
      "source": [
        "# Treinando os modelos com \".fit(X, y)\""
      ]
    },
    {
      "cell_type": "code",
      "metadata": {
        "id": "aYGd7OfHbs29",
        "outputId": "20276b95-3694-4bee-fb57-e996661271af",
        "colab": {
          "base_uri": "https://localhost:8080/",
          "height": 35
        }
      },
      "source": [
        "multi_model.fit(X, y)\n",
        "tree_model.fit(X, y)\n",
        "knn_model.fit(X, y)\n",
        "logreg_model.fit(X, y)\n",
        "gnb_model.fit(X, y)"
      ],
      "execution_count": null,
      "outputs": [
        {
          "output_type": "execute_result",
          "data": {
            "text/plain": [
              "GaussianNB(priors=None, var_smoothing=1e-09)"
            ]
          },
          "metadata": {
            "tags": []
          },
          "execution_count": 24
        }
      ]
    },
    {
      "cell_type": "markdown",
      "metadata": {
        "id": "20AsY_A-3NO6"
      },
      "source": [
        "# Conjunto de testes"
      ]
    },
    {
      "cell_type": "code",
      "metadata": {
        "id": "7IXjE8t5cN_k"
      },
      "source": [
        "dados_teste = [\n",
        "  [0, 1, 1, 1, 1, 1, 0], # Fila\n",
        "  [0, 1, 1, 1, 1, 1, 1], # Doberman\n",
        "  [0, 0, 0, 0, 1, 1, 1], # Pit Bull\n",
        "  [0, 0, 0, 0, 1, 1, 0], # Poodle\n",
        "  [1, 0, 1, 1, 0, 1, 1]  # Poodle\n",
        "]"
      ],
      "execution_count": null,
      "outputs": []
    },
    {
      "cell_type": "markdown",
      "metadata": {
        "id": "LRE30j5g3ZpQ"
      },
      "source": [
        "# Realizando predições com \"predict(dados)\"\n",
        "\n",
        "+ Respostas esperadas:\n",
        "  + Fila, Doberman, Pit Bull, Poodle, Poodle'"
      ]
    },
    {
      "cell_type": "code",
      "metadata": {
        "id": "eHSf6Ht9d5f3",
        "outputId": "b8869971-b304-4598-8abc-6be1758ffe78",
        "colab": {
          "base_uri": "https://localhost:8080/",
          "height": 196
        }
      },
      "source": [
        "print(f'MultinomialNB: {multi_model.predict(dados_teste)}\\n')\n",
        "print(f'Decision Tree: {tree_model.predict(dados_teste)}\\n')\n",
        "print(f'Logistic Regression: {logreg_model.predict(dados_teste)}\\n')\n",
        "print(f'Knn: {knn_model.predict(dados_teste)}\\n')\n",
        "print(f'Gaussian: {gnb_model.predict(dados_teste)}\\n')"
      ],
      "execution_count": null,
      "outputs": [
        {
          "output_type": "stream",
          "text": [
            "MultinomialNB: ['Fila' 'Doberman' 'Pit Bull' 'Fila' 'Pit Bull']\n",
            "\n",
            "Decision Tree: ['Fila' 'Doberman' 'Pit Bull' 'Poodle' 'Poodle']\n",
            "\n",
            "Logistic Regression: ['Fila' 'Fila' 'Pit Bull' 'Pit Bull' 'Poodle']\n",
            "\n",
            "Knn: ['Doberman' 'Doberman' 'Fila' 'Pit Bull' 'Doberman']\n",
            "\n",
            "Gaussian: ['Fila' 'Fila' 'Pit Bull' 'Pit Bull' 'Doberman']\n",
            "\n"
          ],
          "name": "stdout"
        }
      ]
    },
    {
      "cell_type": "markdown",
      "metadata": {
        "id": "zidAyWvrHEzj"
      },
      "source": [
        "# Usando outra abordagem para visualizar os dados"
      ]
    },
    {
      "cell_type": "code",
      "metadata": {
        "id": "N5fY_bgpKPFj"
      },
      "source": [
        "def verifica(model, vetor, esperado):\n",
        "  retorno = []\n",
        "  modelo = []\n",
        "  i = 0;\n",
        "  total = 0\n",
        "\n",
        "  for p in vetor:\n",
        "    if p == esperado[i]:\n",
        "        retorno.append(p)\n",
        "        total += 1\n",
        "        \n",
        "    i+=1\n",
        "    modelo.append(model)\n",
        "  \n",
        "  return total/len(esperado), model"
      ],
      "execution_count": null,
      "outputs": []
    },
    {
      "cell_type": "code",
      "metadata": {
        "id": "b2OIbXqk7vHf"
      },
      "source": [
        "classificacao = [] # guarda os resultados calculados\n",
        "\n",
        "esperado = ['Fila', 'Doberman', 'Pit Bull', 'Poodle', 'Poodle']\n",
        "classificacao.append(verifica('MultinomialNB', multi_model.predict(dados_teste), esperado))\n",
        "classificacao.append(verifica('Decision Tree', tree_model.predict(dados_teste), esperado))\n",
        "classificacao.append(verifica('Logitic Regression', logreg_model.predict(dados_teste), esperado))\n",
        "classificacao.append(verifica('Knn', knn_model.predict(dados_teste), esperado))\n",
        "classificacao.append(verifica('Gaussian', gnb_model.predict(dados_teste), esperado))"
      ],
      "execution_count": null,
      "outputs": []
    },
    {
      "cell_type": "code",
      "metadata": {
        "id": "dOZ8w5w9LWDr",
        "outputId": "0c6b4857-6092-453d-8f6d-c10f6375ec98",
        "colab": {
          "base_uri": "https://localhost:8080/",
          "height": 196
        }
      },
      "source": [
        "# ordena os resultados e mostra em ordem decrescente\n",
        "# a classificação não considera a ordem em que os valores foram encontrados, apenas o geral\n",
        "classificacao.sort(reverse=True)\n",
        "for result in classificacao:\n",
        "  print(f'{result[1]} acertou {result[0]*100}%\\n')"
      ],
      "execution_count": null,
      "outputs": [
        {
          "output_type": "stream",
          "text": [
            "Decision Tree acertou 100.0%\n",
            "\n",
            "MultinomialNB acertou 60.0%\n",
            "\n",
            "Logitic Regression acertou 60.0%\n",
            "\n",
            "Gaussian acertou 40.0%\n",
            "\n",
            "Knn acertou 20.0%\n",
            "\n"
          ],
          "name": "stdout"
        }
      ]
    },
    {
      "cell_type": "code",
      "metadata": {
        "id": "vB7Nkp-mO2kO"
      },
      "source": [
        ""
      ],
      "execution_count": null,
      "outputs": []
    }
  ]
}
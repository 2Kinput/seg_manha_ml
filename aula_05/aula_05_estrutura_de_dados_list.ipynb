{
 "cells": [
  {
   "cell_type": "markdown",
   "metadata": {},
   "source": [
    "## **Aula 05** - Estruturas de Dados: List\n",
    "\n",
    "**Objetivo**: Apresentar os conceitos sobre as Estruturas de Dados em Python.\n",
    "\n",
    "Python trabalha com diferentes estrutura de dados. Entretanto, as duas principais são:\n",
    "\n",
    "* Lista (list)\n",
    "* Dicionário (dict)\n",
    "\n",
    "# Lista (***list***)\n",
    "Lista, também como conhecido como *list*, é uma estrutura de dados que possui **nenhum**, **um** ou **mais itens**, que estão ordenados. Os itens são conhecidos também como elementos. Ela é flexível, ou seja, podemos adicionar novos itens na lista, alterar itens existentes e remover itens da lista, tudo isto de forma dinâmica (em tempo de execução).\n",
    "\n",
    "Em Python, uma lista é representada por uma sequência de itens, separados por vírgula e dentro de colchetes **[]**. Uma lista vazia é representada por colchetes sem nenhuma informação presente entre os colchetes."
   ]
  },
  {
   "cell_type": "code",
   "execution_count": null,
   "metadata": {},
   "outputs": [],
   "source": [
    "lista_vazia = []\n",
    "lista_vazia"
   ]
  },
  {
   "cell_type": "markdown",
   "metadata": {},
   "source": [
    "## Tipos de Variáveis\n",
    "Uma lista pode conter qualquer tipo de variável, inclusive de forma mista"
   ]
  },
  {
   "cell_type": "code",
   "execution_count": null,
   "metadata": {},
   "outputs": [],
   "source": [
    "lista_mista = [\"Uninove\", 3, 34.2, None, True]\n",
    "lista_mista"
   ]
  },
  {
   "cell_type": "code",
   "execution_count": null,
   "metadata": {},
   "outputs": [],
   "source": [
    "lista_paises = ['Brasil', 'Argentina', 'Chile', 'Alemanha', 'França', 'Inglaterra', 'EUA', 'Portugal']\n",
    "lista_paises"
   ]
  },
  {
   "cell_type": "markdown",
   "metadata": {},
   "source": [
    "## Acessando elementos em uma lista\n",
    "* Para acessar elementos de uma lista use <code>lista[&lt;índice do elemento&gt;]</code>.\n",
    "* O índice em Python inicia-se em zero ($0$)"
   ]
  },
  {
   "cell_type": "code",
   "execution_count": null,
   "metadata": {},
   "outputs": [],
   "source": [
    "lista_paises[4] # quinto elemento"
   ]
  },
  {
   "cell_type": "code",
   "execution_count": null,
   "metadata": {},
   "outputs": [],
   "source": [
    "lista_mista[0] # primeiro elemento"
   ]
  },
  {
   "cell_type": "markdown",
   "metadata": {},
   "source": [
    "## Percorrendo uma lista com o laço (FOR)"
   ]
  },
  {
   "cell_type": "code",
   "execution_count": null,
   "metadata": {},
   "outputs": [],
   "source": [
    "for pais in lista_paises:\n",
    "    print(pais)"
   ]
  },
  {
   "cell_type": "markdown",
   "metadata": {},
   "source": [
    "## Percorrendo a lista e mostrando a posição do elemento"
   ]
  },
  {
   "cell_type": "code",
   "execution_count": null,
   "metadata": {},
   "outputs": [],
   "source": [
    "for elemento in lista_paises:\n",
    "    print('posição:', lista_paises.index(elemento), elemento)"
   ]
  },
  {
   "cell_type": "markdown",
   "metadata": {},
   "source": [
    "## Verificando a existência de um elemento em uma Lista (pertencimento)"
   ]
  },
  {
   "cell_type": "code",
   "execution_count": null,
   "metadata": {},
   "outputs": [],
   "source": [
    "lista_numeros = [1, 2, 3, 4, 5]\n",
    "print(3 in lista_numeros)\n",
    "print(6 in lista_numeros)\n",
    "print(7 not in lista_numeros) # atenção ao operador NOT"
   ]
  },
  {
   "cell_type": "markdown",
   "metadata": {},
   "source": [
    "## Opeerações com Listas (elementos)\n",
    "* Adição: **append**\n",
    "* Remoção: **remove**\n",
    "* Remoção (último elemento): **pop()**\n",
    "* Contar o número de items: **count**\n",
    "* Quantidade de itens: **len**\n",
    "* Ordenar Crescente: **sort**\n",
    "* Ordenar Descrescente: **reverse** (para ordenar inversamente é necessário estar ordenada crescente)"
   ]
  },
  {
   "cell_type": "code",
   "execution_count": null,
   "metadata": {},
   "outputs": [],
   "source": [
    "lista_campus = ['Vergueiro', 'Memorial', 'Vila Prudente', 'Santo Amaro', 'Vila Maria']"
   ]
  },
  {
   "cell_type": "code",
   "execution_count": null,
   "metadata": {},
   "outputs": [],
   "source": [
    "# Adicionando um elemento\n",
    "lista_campus.append('Memorial')\n",
    "\n",
    "# Removendo um elemento\n",
    "lista_campus.remove('Vila Prudente')\n",
    "\n",
    "print(lista_campus.count('Memorial'))\n",
    "print(lista_campus.count('Santo Amaro'))"
   ]
  },
  {
   "cell_type": "code",
   "execution_count": null,
   "metadata": {},
   "outputs": [],
   "source": [
    "# Ordenando a lista de forma crescente\n",
    "lista_campus.sort()\n",
    "lista_campus"
   ]
  },
  {
   "cell_type": "code",
   "execution_count": null,
   "metadata": {},
   "outputs": [],
   "source": [
    "# Ordena uma lista em ordem inversa. CUIDADO, somente será ordenado de forma decrescente se a lista estiver ordenada\n",
    "lista_campus.reverse()\n",
    "lista_campus"
   ]
  },
  {
   "cell_type": "code",
   "execution_count": null,
   "metadata": {},
   "outputs": [],
   "source": [
    "print('Quantidade de elementos na lista:', len(lista_campus))"
   ]
  },
  {
   "cell_type": "markdown",
   "metadata": {},
   "source": [
    "## Adicionando elementos em posições específicas"
   ]
  },
  {
   "cell_type": "code",
   "execution_count": null,
   "metadata": {},
   "outputs": [],
   "source": [
    "# adicionando elementos no início da lista\n",
    "lista_campus.insert(0, 'Araraquara')\n",
    "lista_campus"
   ]
  },
  {
   "cell_type": "code",
   "execution_count": null,
   "metadata": {},
   "outputs": [],
   "source": [
    "lista_campus = ['Vergueiro', 'Memorial', 'Vila Prudente', 'Santo Amaro', 'Vila Maria']\n",
    "lista_campus.sort()\n",
    "print(lista_campus)"
   ]
  },
  {
   "cell_type": "code",
   "execution_count": null,
   "metadata": {},
   "outputs": [],
   "source": [
    "print(lista_campus.index('Vila Maria'))"
   ]
  },
  {
   "cell_type": "markdown",
   "metadata": {},
   "source": [
    "## Mais operações com Listas (estrutura) - Fusão"
   ]
  },
  {
   "cell_type": "code",
   "execution_count": null,
   "metadata": {},
   "outputs": [],
   "source": [
    "lista_campus = ['Vergueiro', 'Memorial', 'Vila Prudente', 'Santo Amaro', 'Vila Maria']\n",
    "lista_cursos = ['Ciências da Computação', 'TADS', 'Sistemas de Informação', 'TGTI']"
   ]
  },
  {
   "cell_type": "code",
   "execution_count": null,
   "metadata": {},
   "outputs": [],
   "source": [
    "print(lista_campus + lista_cursos)"
   ]
  },
  {
   "cell_type": "code",
   "execution_count": null,
   "metadata": {},
   "outputs": [],
   "source": [
    "lista_campus.extend(lista_cursos)\n",
    "print('TADS' in lista_campus)"
   ]
  },
  {
   "cell_type": "markdown",
   "metadata": {},
   "source": [
    "## *Slice* ou fatiamento de uma lista\n",
    "* Para fatiar (slice) uma lista use o : e o índice (indexado em zero)\n",
    "\n",
    "Ex.: <code>lista[1:3]</code>"
   ]
  },
  {
   "cell_type": "code",
   "execution_count": null,
   "metadata": {},
   "outputs": [],
   "source": [
    "lista_campus = ['Vergueiro', 'Memorial', 'Vila Prudente', 'Santo Amaro', 'Vila Maria']\n",
    "\n",
    "print(lista_campus[1:3])\n",
    "print(lista_campus[:3])\n",
    "print(lista_campus[2:])"
   ]
  },
  {
   "cell_type": "markdown",
   "metadata": {},
   "source": [
    "# Máximos, Mínimos e Soma de uma lista\n",
    "Podemos utilizar as funções max() e min() para recuperar os maiores e menores valores, respectivamente, além da função sum() para totalizar uma lista."
   ]
  },
  {
   "cell_type": "code",
   "execution_count": null,
   "metadata": {},
   "outputs": [],
   "source": [
    "# maior valor de uma lista\n",
    "lista = [1, 2, 4, 9, 8, 7, 10]\n",
    "max(lista)"
   ]
  },
  {
   "cell_type": "code",
   "execution_count": null,
   "metadata": {},
   "outputs": [],
   "source": [
    "# menor valor de uma lista\n",
    "min(lista)"
   ]
  },
  {
   "cell_type": "code",
   "execution_count": null,
   "metadata": {},
   "outputs": [],
   "source": [
    "sum(lista)"
   ]
  },
  {
   "cell_type": "markdown",
   "metadata": {},
   "source": [
    "# Atividade\n",
    "\n",
    "Elaborar um algoritmo que receba um conjunto de pessoas (10 entradas) que contenha: nome, idade, peso e altura.\n",
    "\n",
    "Mostrar a maior e a menor idade, além da média da idade e do peso.\n",
    "\n",
    "Exemplo de saída: \n",
    "+ Maior idade:\n",
    "+ Menor idade:\n",
    "+ Média da idade:\n",
    "+ Média do peso:"
   ]
  },
  {
   "cell_type": "markdown",
   "metadata": {},
   "source": [
    "# Solução 1"
   ]
  },
  {
   "cell_type": "code",
   "execution_count": 3,
   "metadata": {},
   "outputs": [
    {
     "name": "stdout",
     "output_type": "stream",
     "text": [
      "Maior......: 49\n",
      "Menor......: 18\n",
      "Média Idade: 31.25\n",
      "Média Peso.: 80.25\n"
     ]
    }
   ],
   "source": [
    "# Um caminho plausível\n",
    "pessoas = [\n",
    "    ['Edson', 49, 114, 1.76],\n",
    "    ['Maria', 35, 64, 1.62],\n",
    "    ['Jorge', 18, 95, 1.84],\n",
    "    ['Ana', 23, 48, 1.52]\n",
    "]\n",
    "\n",
    "idades = []\n",
    "pesos = []\n",
    "\n",
    "for pessoa in pessoas: # aqui começa o laço de repetição\n",
    "    idades.append(pessoa[1])\n",
    "    pesos.append(pessoa[2])\n",
    "\n",
    "print('Maior......:', max(idades))\n",
    "print('Menor......:', min(idades))\n",
    "print('Média Idade:', sum(idades)/len(pessoas))\n",
    "print('Média Peso.:', sum(pesos)/len(pessoas))"
   ]
  },
  {
   "cell_type": "markdown",
   "metadata": {},
   "source": [
    "# Solução 2\n",
    "+ Nesta solução oram utilizados dois métodos diferentes de inserção (*insert* e *append*), onde o primeiro controla as idades e o segundo os pesos\n",
    "+ Criação de uma variável para controlar a quantidade de entradas na lista\n",
    "+ Também foi utilizado o *slice* para controlar os elementos da lista"
   ]
  },
  {
   "cell_type": "code",
   "execution_count": 1,
   "metadata": {},
   "outputs": [
    {
     "name": "stdout",
     "output_type": "stream",
     "text": [
      "Maior......: 49\n",
      "Menor......: 18\n",
      "Média Idade: 31.25\n",
      "Média Peso.: 80.25\n"
     ]
    }
   ],
   "source": [
    "# Um caminho plausível\n",
    "pessoas = [\n",
    "    ['Edson', 49, 114, 1.76],\n",
    "    ['Maria', 35, 64, 1.62],\n",
    "    ['Jorge', 18, 95, 1.84],\n",
    "    ['Ana', 23, 48, 1.52]\n",
    "]\n",
    "\n",
    "quantidade = len(pessoas)\n",
    "valores = []\n",
    "\n",
    "for pessoa in pessoas: # aqui começa o laço de repetição\n",
    "    valores.insert(0, pessoa[1])\n",
    "    valores.append(pessoa[2])\n",
    "\n",
    "print('Maior......:', max(valores[:quantidade]))\n",
    "print('Menor......:', min(valores[:quantidade]))\n",
    "print('Média Idade:', sum(valores[:quantidade])/quantidade)\n",
    "print('Média Peso.:', sum(valores[quantidade:])/quantidade)"
   ]
  },
  {
   "cell_type": "code",
   "execution_count": null,
   "metadata": {},
   "outputs": [],
   "source": []
  }
 ],
 "metadata": {
  "kernelspec": {
   "display_name": "Python 3",
   "language": "python",
   "name": "python3"
  },
  "language_info": {
   "codemirror_mode": {
    "name": "ipython",
    "version": 3
   },
   "file_extension": ".py",
   "mimetype": "text/x-python",
   "name": "python",
   "nbconvert_exporter": "python",
   "pygments_lexer": "ipython3",
   "version": "3.6.10"
  }
 },
 "nbformat": 4,
 "nbformat_minor": 4
}
